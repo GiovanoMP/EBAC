{
 "cells": [
  {
   "cell_type": "markdown",
   "metadata": {},
   "source": [
    "# Tarefa - Álgebra Linear\n",
    "\n",
    "A célula abaixo gera dados de notas de duas provas, p1 e p2, conforme em aula, mas com mais alunos.\n",
    "\n",
    "## 1. Reduzindo correlações\n",
    "\n",
    "a) Já vimos que expressar os dados através da média e diferença é uma transformação linear. Obtenha a média e a diferença através de uma multiplicação matricial, conforme visto em aula.\n",
    "\n",
    "b) Calcule a correlação entre os dados da **p1** e **p2**\n",
    "\n",
    "c) Calcule a correlação entre os dados transformados (média e diferença)\n",
    "\n",
    "d) Comente as correlações observadas."
   ]
  },
  {
   "cell_type": "code",
   "execution_count": 1,
   "metadata": {},
   "outputs": [],
   "source": [
    "import pandas as pd\n",
    "import seaborn as sns\n",
    "import numpy as np\n",
    "import matplotlib.pyplot as plt\n",
    "\n",
    "%matplotlib inline\n",
    "\n",
    "# Gerando os dados\n",
    "np.random.seed(123)\n",
    "\n",
    "p1 = np.random.random(50) *10\n",
    "p1[p1>10] = 10\n",
    "p1[p1<0] = 0\n",
    "\n",
    "p2 = p1 + np.random.normal(0,1,50)\n",
    "p2[p2>10] = 10\n",
    "p2[p2<0] = 0\n",
    "\n",
    "df = pd.DataFrame({'p1': p1, 'p2': p2})"
   ]
  },
  {
   "cell_type": "code",
   "execution_count": 3,
   "metadata": {},
   "outputs": [
    {
     "data": {
      "text/html": [
       "<div>\n",
       "<style scoped>\n",
       "    .dataframe tbody tr th:only-of-type {\n",
       "        vertical-align: middle;\n",
       "    }\n",
       "\n",
       "    .dataframe tbody tr th {\n",
       "        vertical-align: top;\n",
       "    }\n",
       "\n",
       "    .dataframe thead th {\n",
       "        text-align: right;\n",
       "    }\n",
       "</style>\n",
       "<table border=\"1\" class=\"dataframe\">\n",
       "  <thead>\n",
       "    <tr style=\"text-align: right;\">\n",
       "      <th></th>\n",
       "      <th>p1</th>\n",
       "      <th>p2</th>\n",
       "    </tr>\n",
       "  </thead>\n",
       "  <tbody>\n",
       "    <tr>\n",
       "      <th>0</th>\n",
       "      <td>6.964692</td>\n",
       "      <td>7.943428</td>\n",
       "    </tr>\n",
       "    <tr>\n",
       "      <th>1</th>\n",
       "      <td>2.861393</td>\n",
       "      <td>5.099537</td>\n",
       "    </tr>\n",
       "    <tr>\n",
       "      <th>2</th>\n",
       "      <td>2.268515</td>\n",
       "      <td>0.974429</td>\n",
       "    </tr>\n",
       "    <tr>\n",
       "      <th>3</th>\n",
       "      <td>5.513148</td>\n",
       "      <td>4.474359</td>\n",
       "    </tr>\n",
       "    <tr>\n",
       "      <th>4</th>\n",
       "      <td>7.194690</td>\n",
       "      <td>8.938402</td>\n",
       "    </tr>\n",
       "  </tbody>\n",
       "</table>\n",
       "</div>"
      ],
      "text/plain": [
       "         p1        p2\n",
       "0  6.964692  7.943428\n",
       "1  2.861393  5.099537\n",
       "2  2.268515  0.974429\n",
       "3  5.513148  4.474359\n",
       "4  7.194690  8.938402"
      ]
     },
     "execution_count": 3,
     "metadata": {},
     "output_type": "execute_result"
    }
   ],
   "source": [
    "df.head()"
   ]
  },
  {
   "cell_type": "code",
   "execution_count": 5,
   "metadata": {},
   "outputs": [
    {
     "name": "stdout",
     "output_type": "stream",
     "text": [
      "Dados transformados (Média e Diferença):\n",
      "         p1        p2      mean      diff\n",
      "0  6.964692  7.943428  7.454060 -0.489368\n",
      "1  2.861393  5.099537  3.980465 -1.119072\n",
      "2  2.268515  0.974429  1.621472  0.647043\n",
      "3  5.513148  4.474359  4.993754  0.519394\n",
      "4  7.194690  8.938402  8.066546 -0.871856\n"
     ]
    }
   ],
   "source": [
    "# a) Obtenha a média e a diferença através de uma multiplicação matricial\n",
    "transform_matrix = np.array([[0.5, 0.5], [0.5, -0.5]])\n",
    "data_matrix = df[['p1', 'p2']].values\n",
    "transformed_data = data_matrix @ transform_matrix\n",
    "\n",
    "df['mean'] = transformed_data[:, 0]\n",
    "df['diff'] = transformed_data[:, 1]\n",
    "\n",
    "# Imprimindo as primeiras linhas para verificar os resultados\n",
    "print(\"Dados transformados (Média e Diferença):\")\n",
    "print(df.head())"
   ]
  },
  {
   "cell_type": "code",
   "execution_count": 6,
   "metadata": {},
   "outputs": [
    {
     "name": "stdout",
     "output_type": "stream",
     "text": [
      "\n",
      "Correlação entre p1 e p2: 0.90\n"
     ]
    }
   ],
   "source": [
    "# b) Calcule a correlação entre os dados da p1 e p2\n",
    "corr_original = df[['p1', 'p2']].corr().iloc[0, 1]\n",
    "print(f\"\\nCorrelação entre p1 e p2: {corr_original:.2f}\")"
   ]
  },
  {
   "cell_type": "code",
   "execution_count": 7,
   "metadata": {},
   "outputs": [
    {
     "name": "stdout",
     "output_type": "stream",
     "text": [
      "Correlação entre a média e a diferença: -0.13\n"
     ]
    }
   ],
   "source": [
    "# c) Calcule a correlação entre os dados transformados (média e diferença)\n",
    "corr_transformed = df[['mean', 'diff']].corr().iloc[0, 1]\n",
    "print(f\"Correlação entre a média e a diferença: {corr_transformed:.2f}\")"
   ]
  },
  {
   "cell_type": "code",
   "execution_count": 9,
   "metadata": {},
   "outputs": [
    {
     "name": "stdout",
     "output_type": "stream",
     "text": [
      "A correlação entre a média e a diferença é menor do que entre p1 e p2, o que indica que a transformação reduziu a relação linear entre os dados.\n"
     ]
    }
   ],
   "source": [
    "# d) Comente as correlações observadas\n",
    "if corr_transformed < corr_original:\n",
    "    print(\"A correlação entre a média e a diferença é menor do que entre p1 e p2, \"\n",
    "          \"o que indica que a transformação reduziu a relação linear entre os dados.\")\n",
    "else:\n",
    "    print(\"A correlação entre a média e a diferença não reduziu, sugerindo que \"\n",
    "          \"os dados transformados ainda mantêm alguma relação linear.\")"
   ]
  },
  {
   "cell_type": "markdown",
   "metadata": {},
   "source": [
    "## 2. Soma e diferença\n",
    "\n",
    "Realize agora uma transformação semelhante, mas que ao invés da média, dê a soma da **p1** e **p2**. Construa o gráfico e conclua que diferenças visuais você observa."
   ]
  },
  {
   "cell_type": "code",
   "execution_count": 10,
   "metadata": {},
   "outputs": [
    {
     "name": "stdout",
     "output_type": "stream",
     "text": [
      "\n",
      "Dados transformados (Soma e Diferença):\n",
      "         sum     diff2\n",
      "0  14.908120 -0.978736\n",
      "1   7.960930 -2.238143\n",
      "2   3.242944  1.294085\n",
      "3   9.987507  1.038788\n",
      "4  16.133092 -1.743712\n"
     ]
    },
    {
     "data": {
      "image/png": "[encoded data removed]",
      "text/plain": [
       "<Figure size 640x480 with 1 Axes>"
      ]
     },
     "metadata": {},
     "output_type": "display_data"
    }
   ],
   "source": [
    "# Transformação para obter soma e diferença\n",
    "sum_diff_transform_matrix = np.array([[1, 1], [1, -1]])\n",
    "sum_diff_data = data_matrix @ sum_diff_transform_matrix\n",
    "\n",
    "df['sum'] = sum_diff_data[:, 0]\n",
    "df['diff2'] = sum_diff_data[:, 1]\n",
    "\n",
    "# Imprimindo as primeiras linhas da soma e diferença\n",
    "print(\"\\nDados transformados (Soma e Diferença):\")\n",
    "print(df[['sum', 'diff2']].head())\n",
    "\n",
    "# Gráfico para visualizar soma e diferença\n",
    "sns.scatterplot(x='sum', y='diff2', data=df)\n",
    "plt.title(\"Gráfico de Soma vs Diferença\")\n",
    "plt.xlabel(\"Soma de p1 e p2\")\n",
    "plt.ylabel(\"Diferença de p1 e p2\")\n",
    "plt.show()"
   ]
  }
 ],
 "metadata": {
  "kernelspec": {
   "display_name": "Python 3",
   "language": "python",
   "name": "python3"
  },
  "language_info": {
   "codemirror_mode": {
    "name": "ipython",
    "version": 3
   },
   "file_extension": ".py",
   "mimetype": "text/x-python",
   "name": "python",
   "nbconvert_exporter": "python",
   "pygments_lexer": "ipython3",
   "version": "3.11.3"
  },
  "toc": {
   "base_numbering": 1,
   "nav_menu": {},
   "number_sections": false,
   "sideBar": true,
   "skip_h1_title": false,
   "title_cell": "Índice",
   "title_sidebar": "Conteúdo",
   "toc_cell": false,
   "toc_position": {
    "height": "calc(100% - 180px)",
    "left": "10px",
    "top": "150px",
    "width": "257.6px"
   },
   "toc_section_display": true,
   "toc_window_display": false
  },
  "varInspector": {
   "cols": {
    "lenName": 16,
    "lenType": 16,
    "lenVar": 40
   },
   "kernels_config": {
    "python": {
     "delete_cmd_postfix": "",
     "delete_cmd_prefix": "del ",
     "library": "var_list.py",
     "varRefreshCmd": "print(var_dic_list())"
    },
    "r": {
     "delete_cmd_postfix": ") ",
     "delete_cmd_prefix": "rm(",
     "library": "var_list.r",
     "varRefreshCmd": "cat(var_dic_list()) "
    }
   },
   "types_to_exclude": [
    "module",
    "function",
    "builtin_function_or_method",
    "instance",
    "_Feature"
   ],
   "window_display": false
  }
 },
 "nbformat": 4,
 "nbformat_minor": 4
}
