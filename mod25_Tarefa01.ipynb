{
 "cells": [
  {
   "cell_type": "markdown",
   "metadata": {},
   "source": [
    "#### Cálculo - Tarefa 01\n",
    "\n",
    "1. Marque quais desses métodos/algoritmos muito populares em ciência de dados são baseados no uso de derivada:\n",
    "\n",
    "    1. Método Mínimos Quadrados\n",
    "    2. Gradiente descendente\n",
    "    3. Newton Raphson\n",
    "    4. CART (Árvore de decisão)"
   ]
  },
  {
   "cell_type": "markdown",
   "metadata": {},
   "source": [
    "Em ciência de dados, muitos algoritmos e métodos de otimização utilizam derivadas para encontrar os melhores parâmetros ou minimizar funções de erro. A derivada indica a inclinação de uma função, e saber como ela muda ajuda a ajustar os parâmetros do modelo de forma eficiente.\n",
    "\n",
    "## Análise dos Métodos\n",
    "\n",
    "1. **Método dos Mínimos Quadrados**\n",
    "    - **Descrição**: Este método é usado para ajustar um modelo linear aos dados, minimizando a soma dos quadrados das diferenças entre os valores observados e os valores previstos.\n",
    "    - **Uso de Derivadas**: Sim. Para encontrar os coeficientes que minimizam a função de erro, calculam-se as derivadas parciais da função de erro em relação a cada coeficiente.\n",
    "    - **Conclusão**: Baseado no uso de derivadas.\n",
    "\n",
    "2. **Gradiente Descendente**\n",
    "    - **Descrição**: O gradiente descendente é um algoritmo de otimização que ajusta os parâmetros do modelo iterativamente na direção oposta ao gradiente da função de erro.\n",
    "    - **Uso de Derivadas**: Sim. O gradiente é composto pelas derivadas parciais da função de erro em relação aos parâmetros do modelo.\n",
    "    - **Conclusão**: Baseado no uso de derivadas.\n",
    "\n",
    "3. **Newton-Raphson**\n",
    "    - **Descrição**: O método de Newton-Raphson é usado para encontrar raízes de uma função ou minimizar funções, utilizando tanto a primeira quanto a segunda derivadas.\n",
    "    - **Uso de Derivadas**: Sim. Ele utiliza derivadas de primeira e segunda ordem para encontrar o ponto de mínimo ou a raiz da função.\n",
    "    - **Conclusão**: Baseado no uso de derivadas.\n",
    "\n",
    "4. **CART (Árvore de Decisão)**\n",
    "    - **Descrição**: CART é um algoritmo de árvore de decisão que divide os dados em subconjuntos baseados em condições que maximizam a separação entre classes ou minimizam a variação.\n",
    "    - **Uso de Derivadas**: Não. A criação das árvores de decisão baseia-se em dividir os dados sequencialmente, sem o uso de cálculos diferenciais.\n",
    "    - **Conclusão**: Não é baseado no uso de derivadas.\n",
    "\n",
    "## Resumo Final\n",
    "\n",
    "Os seguintes métodos/algoritmos são baseados no uso de derivadas:\n",
    "- Método dos Mínimos Quadrados\n",
    "- Gradiente Descendente\n",
    "- Newton-Raphson\n",
    "\n",
    "O algoritmo CART (Árvore de Decisão) **não** é baseado no uso de derivadas."
   ]
  },
  {
   "cell_type": "markdown",
   "metadata": {},
   "source": [
    "#### 2. Dada uma base de dados com uma variável resposta $y$ e um conjunto de variáveis explicativas. Considere uma estrutura de um modelo de regressão. Explique com suas palavras por que não é possível obter parâmetros que forneçam um erro quadrático médio (EQM) menor que o obtido com estimadores de mínimos quadrados."
   ]
  },
  {
   "cell_type": "markdown",
   "metadata": {},
   "source": [
    "Em um modelo de regressão linear, o objetivo é ajustar uma função que melhor represente a relação entre a variável resposta \\( y \\) e um conjunto de variáveis explicativas. O **Erro Quadrático Médio (EQM)** mede a média das diferenças ao quadrado entre os valores observados e os valores previstos pelo modelo. Quanto menor o EQM, melhor o modelo ajusta os dados.\n",
    "\n",
    "## Explicação\n",
    "\n",
    "O **método dos mínimos quadrados** é uma técnica que encontra os coeficientes do modelo de regressão linear que minimizam o EQM. Isso significa que ele ajusta os parâmetros de forma a minimizar a soma dos quadrados das diferenças entre os valores observados e os valores previstos.\n",
    "\n",
    "### Por que não é possível obter um EQM menor usando este método?\n",
    "\n",
    "- **Otimização**: O método dos mínimos quadrados já é projetado para encontrar os coeficientes que minimizam o EQM. Isso significa que, dado um modelo linear e os dados, ele garante o menor EQM possível dentro das suposições do modelo.\n",
    "  \n",
    "- **Propriedade dos Estimadores**: No contexto de um modelo linear simples, os estimadores de mínimos quadrados têm a propriedade de serem os melhores estimadores lineares não viesados (BLUE - Best Linear Unbiased Estimators), o que significa que, sob essas condições, eles fornecem o menor EQM possível.\n",
    "\n",
    "### Considerações\n",
    "\n",
    "- Se utilizarmos outros métodos que modificam a estrutura do modelo, como regularização (Ridge, Lasso) ou modelos não lineares, podemos potencialmente reduzir o EQM. No entanto, dentro da estrutura de um modelo de regressão linear simples, o EQM mínimo obtido com os mínimos quadrados é o menor que podemos alcançar para os dados dados.\n",
    "\n",
    "## Resumo\n",
    "\n",
    "Dentro das condições de um modelo de regressão linear, o método dos mínimos quadrados encontra os parâmetros que resultam no menor EQM possível. Portanto, não é possível obter um EQM menor sem alterar o modelo ou os pressupostos usados."
   ]
  }
 ],
 "metadata": {
  "kernelspec": {
   "display_name": "Python 3",
   "language": "python",
   "name": "python3"
  },
  "language_info": {
   "codemirror_mode": {
    "name": "ipython",
    "version": 3
   },
   "file_extension": ".py",
   "mimetype": "text/x-python",
   "name": "python",
   "nbconvert_exporter": "python",
   "pygments_lexer": "ipython3",
   "version": "3.8.5"
  },
  "toc": {
   "base_numbering": 1,
   "nav_menu": {},
   "number_sections": true,
   "sideBar": true,
   "skip_h1_title": true,
   "title_cell": "Índice",
   "title_sidebar": "Conteúdo",
   "toc_cell": false,
   "toc_position": {},
   "toc_section_display": true,
   "toc_window_display": false
  },
  "varInspector": {
   "cols": {
    "lenName": 16,
    "lenType": 16,
    "lenVar": 40
   },
   "kernels_config": {
    "python": {
     "delete_cmd_postfix": "",
     "delete_cmd_prefix": "del ",
     "library": "var_list.py",
     "varRefreshCmd": "print(var_dic_list())"
    },
    "r": {
     "delete_cmd_postfix": ") ",
     "delete_cmd_prefix": "rm(",
     "library": "var_list.r",
     "varRefreshCmd": "cat(var_dic_list()) "
    }
   },
   "types_to_exclude": [
    "module",
    "function",
    "builtin_function_or_method",
    "instance",
    "_Feature"
   ],
   "window_display": false
  }
 },
 "nbformat": 4,
 "nbformat_minor": 4
}
