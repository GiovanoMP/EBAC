{
 "cells": [
  {
   "cell_type": "markdown",
   "metadata": {},
   "source": [
    "![Cabec%CC%A7alho_notebook.png](cabecalho_notebook.png)"
   ]
  },
  {
   "cell_type": "code",
   "execution_count": 22,
   "metadata": {},
   "outputs": [],
   "source": [
    "import pandas as pd\n",
    "\n",
    "from sklearn.tree import DecisionTreeClassifier\n",
    "\n",
    "from sklearn.decomposition import PCA\n",
    "from sklearn.metrics import accuracy_score\n",
    "from sklearn.model_selection import cross_val_score\n",
    "from sklearn.model_selection import GridSearchCV\n",
    "from time import time"
   ]
  },
  {
   "cell_type": "markdown",
   "metadata": {},
   "source": [
    "# PCA - Tarefa 01: *HAR* com PCA\n",
    "\n",
    "Vamos trabalhar com a base da demonstração feita em aula, mas vamos explorar um pouco melhor como é o desempenho da árvore variando o número de componentes principais."
   ]
  },
  {
   "cell_type": "code",
   "execution_count": 23,
   "metadata": {},
   "outputs": [],
   "source": [
    "# Definindo os caminhos dos arquivos\n",
    "features_path = \"features.txt\"\n",
    "activity_labels_path = \"activity_labels.txt\"\n",
    "X_train_path = \"train/X_train.txt\"\n",
    "y_train_path = \"train/y_train.txt\"\n",
    "subject_train_path = \"train/subject_train.txt\"\n",
    "X_test_path = \"test/X_test.txt\"\n",
    "y_test_path = \"test/y_test.txt\"\n",
    "subject_test_path = \"test/subject_test.txt\"\n",
    "\n",
    "# Carregar nomes das features\n",
    "features = pd.read_csv(features_path, delim_whitespace=True, header=None)\n",
    "features = features[1].tolist()  # Extrair apenas os nomes das features\n",
    "\n",
    "# Tornar os nomes das features únicos\n",
    "features = pd.Series(features)\n",
    "features_unique = features + \"_\" + features.groupby(features).cumcount().astype(str)\n",
    "features_unique = features_unique.tolist()\n",
    "\n",
    "# Carregar os rótulos das atividades\n",
    "activity_labels = pd.read_csv(activity_labels_path, delim_whitespace=True, header=None, index_col=0)\n",
    "\n",
    "# Carregar dados de treino\n",
    "X_train = pd.read_csv(X_train_path, delim_whitespace=True, header=None, names=features_unique)\n",
    "y_train = pd.read_csv(y_train_path, delim_whitespace=True, header=None)\n",
    "subject_train = pd.read_csv(subject_train_path, delim_whitespace=True, header=None)\n",
    "\n",
    "# Carregar dados de teste\n",
    "X_test = pd.read_csv(X_test_path, delim_whitespace=True, header=None, names=features_unique)\n",
    "y_test = pd.read_csv(y_test_path, delim_whitespace=True, header=None)\n",
    "subject_test = pd.read_csv(subject_test_path, delim_whitespace=True, header=None)\n",
    "\n",
    "# Mapear os rótulos para nomes de atividades\n",
    "y_train = y_train[0].map(activity_labels[1])\n",
    "y_test = y_test[0].map(activity_labels[1])\n",
    "\n",
    "\n"
   ]
  },
  {
   "cell_type": "markdown",
   "metadata": {},
   "source": [
    "## Árvore de decisão\n",
    "\n",
    "Rode uma árvore de decisão com todas as variáveis, utilizando o ```ccp_alpha=0.001```. Avalie a acurácia nas bases de treinamento e teste. Avalie o tempo de processamento."
   ]
  },
  {
   "cell_type": "code",
   "execution_count": 24,
   "metadata": {},
   "outputs": [
    {
     "name": "stdout",
     "output_type": "stream",
     "text": [
      "CPU times: total: 2.02 s\n",
      "Wall time: 6.04 s\n"
     ]
    },
    {
     "data": {
      "text/plain": [
       "(0.9757889009793254, 0.8805564981336953)"
      ]
     },
     "execution_count": 24,
     "metadata": {},
     "output_type": "execute_result"
    }
   ],
   "source": [
    "%%time\n",
    "\n",
    "# Instanciar o modelo de árvore de decisão\n",
    "clf = DecisionTreeClassifier(ccp_alpha=0.001)\n",
    "\n",
    "# Treinar o modelo\n",
    "clf.fit(X_train, y_train)\n",
    "\n",
    "# Prever nos conjuntos de treino e teste\n",
    "y_train_pred = clf.predict(X_train)\n",
    "y_test_pred = clf.predict(X_test)\n",
    "\n",
    "# Avaliar a acurácia\n",
    "train_accuracy = accuracy_score(y_train, y_train_pred)\n",
    "test_accuracy = accuracy_score(y_test, y_test_pred)\n",
    "\n",
    "(train_accuracy, test_accuracy)"
   ]
  },
  {
   "cell_type": "markdown",
   "metadata": {},
   "source": [
    "**Obs:** Conforme podemos observar acima, obtivemos uma diferença de aproximadamente 10% na acurácia entre os conjuntos de treino e teste. Isso sugere que o modelo está se ajustando excessivamente aos dados de treino, possivelmente aprendendo (ou \"decorando\") não apenas os padrões, mas também os ruídos presentes nesse conjunto. Esse comportamento indica que o modelo está sobreajustado (overfitted)."
   ]
  },
  {
   "cell_type": "markdown",
   "metadata": {},
   "source": [
    "## Árvore com PCA\n",
    "\n",
    "Faça uma análise de componemtes principais das variáveis originais. Utilize apenas uma componente. Faça uma árvore de decisão com esta componente como variável explicativa.\n",
    "\n",
    "- Avalie a acurácia nas bases de treinamento e teste\n",
    "- Avalie o tempo de processamento"
   ]
  },
  {
   "cell_type": "code",
   "execution_count": 28,
   "metadata": {},
   "outputs": [
    {
     "name": "stdout",
     "output_type": "stream",
     "text": [
      "CPU times: total: 125 ms\n",
      "Wall time: 180 ms\n"
     ]
    },
    {
     "data": {
      "text/plain": [
       "(1.0, 0.41024770953512046)"
      ]
     },
     "execution_count": 28,
     "metadata": {},
     "output_type": "execute_result"
    }
   ],
   "source": [
    "%%time\n",
    "\n",
    "# Aplicar PCA com apenas uma componente\n",
    "pca = PCA(n_components=1)\n",
    "\n",
    "# Reduzir as dimensões dos conjuntos de treino e teste\n",
    "X_train_pca = pca.fit_transform(X_train)\n",
    "X_test_pca = pca.transform(X_test)\n",
    "\n",
    "# Instanciar o modelo de árvore de decisão\n",
    "clf_pca = DecisionTreeClassifier()\n",
    "\n",
    "# Treinar o modelo\n",
    "clf_pca.fit(X_train_pca, y_train)\n",
    "\n",
    "# Prever nos conjuntos de treino e teste\n",
    "y_train_pred_pca = clf_pca.predict(X_train_pca)\n",
    "y_test_pred_pca = clf_pca.predict(X_test_pca)\n",
    "\n",
    "# Avaliar a acurácia\n",
    "train_accuracy_pca = accuracy_score(y_train, y_train_pred_pca)\n",
    "test_accuracy_pca = accuracy_score(y_test, y_test_pred_pca)\n",
    "\n",
    "(train_accuracy_pca, test_accuracy_pca)\n"
   ]
  },
  {
   "cell_type": "markdown",
   "metadata": {},
   "source": [
    "**Obs:** Ao utilizar uma Análise de Componentes Principais (PCA) com apenas uma componente e aplicar uma árvore de decisão utilizando essa única variável explicativa, observamos uma acurácia de 100% no conjunto de treino e de aproximadamente 41% no conjunto de teste. Essa diferença significativa sugere que o modelo está completamente sobreajustado (overfitted) aos dados de treino. O modelo aprendeu perfeitamente os padrões presentes no conjunto de treino, mas não consegue generalizar para novos dados, resultando em uma baixa acurácia no conjunto de teste"
   ]
  },
  {
   "cell_type": "markdown",
   "metadata": {},
   "source": [
    "## Testando o número de componentes\n",
    "\n",
    "Com base no código acima, teste a árvore de classificação com pelo menos as seguintes possibilidades de quantidades de componentes: ```[1, 2, 5, 10, 50]```. Avalie para cada uma delas:\n",
    "\n",
    "- Acurácia nas bases de treino e teste\n",
    "- Tempo de processamento\n"
   ]
  },
  {
   "cell_type": "code",
   "execution_count": 30,
   "metadata": {},
   "outputs": [
    {
     "name": "stdout",
     "output_type": "stream",
     "text": [
      "   n_components  train_accuracy  test_accuracy           best_params\n",
      "0             1        0.499728       0.457075  {'ccp_alpha': 0.001}\n",
      "1             2        0.612758       0.584662  {'ccp_alpha': 0.001}\n",
      "2             5        0.846028       0.788599  {'ccp_alpha': 0.001}\n",
      "3            10        0.892682       0.823889  {'ccp_alpha': 0.001}\n",
      "4            50        0.919342       0.822871  {'ccp_alpha': 0.001}\n",
      "CPU times: total: 2.05 s\n",
      "Wall time: 5.32 s\n"
     ]
    }
   ],
   "source": [
    "%%time\n",
    "\n",
    "\n",
    "# Lista de números de componentes a serem testados\n",
    "n_components_list = [1, 2, 5, 10, 50]\n",
    "\n",
    "# Armazenar resultados\n",
    "results = []\n",
    "\n",
    "# Configuração do GridSearch\n",
    "param_grid = {'ccp_alpha': [0.001]}\n",
    "clf = DecisionTreeClassifier()\n",
    "grid_search = GridSearchCV(clf, param_grid, cv=5, scoring='accuracy')\n",
    "\n",
    "for n_components in n_components_list:\n",
    "    # Aplicar PCA\n",
    "    pca = PCA(n_components=n_components)\n",
    "    X_train_pca = pca.fit_transform(X_train)\n",
    "    X_test_pca = pca.transform(X_test)\n",
    "    \n",
    "    # Treinar o modelo com GridSearch\n",
    "    grid_search.fit(X_train_pca, y_train)\n",
    "    \n",
    "    # Melhor modelo encontrado\n",
    "    best_clf = grid_search.best_estimator_\n",
    "    \n",
    "    # Previsão e avaliação de acurácia\n",
    "    y_train_pred = best_clf.predict(X_train_pca)\n",
    "    y_test_pred = best_clf.predict(X_test_pca)\n",
    "    train_accuracy = accuracy_score(y_train, y_train_pred)\n",
    "    test_accuracy = accuracy_score(y_test, y_test_pred)\n",
    "    \n",
    "    # Registrar resultados\n",
    "    results.append({\n",
    "        'n_components': n_components,\n",
    "        'train_accuracy': train_accuracy,\n",
    "        'test_accuracy': test_accuracy,\n",
    "        'best_params': grid_search.best_params_\n",
    "    })\n",
    "\n",
    "# Converter os resultados em DataFrame e exibir\n",
    "results_df = pd.DataFrame(results)\n",
    "print(results_df)"
   ]
  },
  {
   "cell_type": "markdown",
   "metadata": {},
   "source": [
    "## Conclua\n",
    "\n",
    "- O que aconteceu com a acurácia?\n",
    "- O que aconteceu com o tempo de processamento?"
   ]
  },
  {
   "cell_type": "markdown",
   "metadata": {},
   "source": [
    "### Análise dos Resultados\n",
    "\n",
    "**O que aconteceu com a acurácia?**\n",
    "- Conforme o número de componentes principais (`n_components`) aumenta, a acurácia tanto no conjunto de treino quanto no de teste também aumenta.\n",
    "- Observamos que após um certo ponto (entre 10 e 50 componentes), a acurácia no conjunto de teste se estabiliza, sugerindo que adicionar mais componentes não melhora significativamente o desempenho do modelo.\n",
    "\n",
    "**O que aconteceu com o tempo de processamento?**\n",
    "- O tempo total de processamento aumentou com o uso de mais componentes principais. Isso é esperado, pois o modelo precisa processar mais variáveis, tornando o treinamento e a validação cruzada mais complexos e demorados.\n",
    "\n",
    "### Escolha do Modelo\n",
    "\n",
    "Para selecionar um modelo que não esteja sobreajustado (overfitted), consideramos:\n",
    "\n",
    "1. **Diferença entre Acurácia de Treino e Teste**:\n",
    "   - O modelo com 10 componentes principais (`n_components=10`) apresenta uma acurácia de treino de aproximadamente 89.3% e uma acurácia de teste de aproximadamente 82.4%.\n",
    "   - A diferença entre as acurácias é de cerca de 6.9%, indicando que o modelo está generalizando bem sem estar excessivamente ajustado aos dados de treino.\n",
    "\n",
    "2. **Desempenho Geral**:\n",
    "   - O modelo com 50 componentes principais tem uma acurácia de teste muito semelhante ao modelo com 10 componentes, mas com um aumento na acurácia de treino, sugerindo um possível início de overfitting.\n",
    "\n",
    "**Conclusão**:\n",
    "- **Seleção do Modelo**: O modelo com **10 componentes principais (`n_components=10`)** é o mais balanceado entre a acurácia de treino e teste, sem sinais evidentes de overfitting. Portanto, ele seria a melhor escolha com base nos resultados apresentados.\n",
    "\n",
    "- **Justificativa**: Este modelo oferece uma boa combinação de desempenho e generalização, mantendo a acurácia de teste alta enquanto minimiza a diferença entre as acurácias de treino e teste.\n"
   ]
  },
  {
   "cell_type": "markdown",
   "metadata": {},
   "source": [
    "**Obs:** Agora, exploraremos mais dimensões dentro da melhor faixa encontrada anteriormente, em seguida observaremos se com as dimensionalidades escolhidas, poderemos obter melhores resultados entre o treino e teste."
   ]
  },
  {
   "cell_type": "code",
   "execution_count": 33,
   "metadata": {},
   "outputs": [
    {
     "name": "stdout",
     "output_type": "stream",
     "text": [
      "   n_components  train_accuracy  test_accuracy           best_params\n",
      "0             3        0.779516       0.754326  {'ccp_alpha': 0.001}\n",
      "1             7        0.867247       0.777740  {'ccp_alpha': 0.001}\n",
      "2            10        0.892682       0.824228  {'ccp_alpha': 0.001}\n",
      "3            15        0.904788       0.814048  {'ccp_alpha': 0.001}\n",
      "4            20        0.908460       0.819477  {'ccp_alpha': 0.001}\n",
      "5            30        0.910909       0.823549  {'ccp_alpha': 0.001}\n",
      "CPU times: total: 1.91 s\n",
      "Wall time: 5.28 s\n"
     ]
    }
   ],
   "source": [
    "%%time\n",
    "# Lista de números de componentes a serem testados\n",
    "n_components_list = [3, 7, 10, 15, 20, 30]\n",
    "\n",
    "# Armazenar resultados\n",
    "results = []\n",
    "\n",
    "# Configuração do GridSearch\n",
    "param_grid = {'ccp_alpha': [0.001]}\n",
    "clf = DecisionTreeClassifier()\n",
    "grid_search = GridSearchCV(clf, param_grid, cv=5, scoring='accuracy')\n",
    "\n",
    "for n_components in n_components_list:\n",
    "    # Aplicar PCA\n",
    "    pca = PCA(n_components=n_components)\n",
    "    X_train_pca = pca.fit_transform(X_train)\n",
    "    X_test_pca = pca.transform(X_test)\n",
    "    \n",
    "    # Treinar o modelo com GridSearch\n",
    "    grid_search.fit(X_train_pca, y_train)\n",
    "    \n",
    "    # Melhor modelo encontrado\n",
    "    best_clf = grid_search.best_estimator_\n",
    "    \n",
    "    # Previsão e avaliação de acurácia\n",
    "    y_train_pred = best_clf.predict(X_train_pca)\n",
    "    y_test_pred = best_clf.predict(X_test_pca)\n",
    "    train_accuracy = accuracy_score(y_train, y_train_pred)\n",
    "    test_accuracy = accuracy_score(y_test, y_test_pred)\n",
    "    \n",
    "    # Registrar resultados\n",
    "    results.append({\n",
    "        'n_components': n_components,\n",
    "        'train_accuracy': train_accuracy,\n",
    "        'test_accuracy': test_accuracy,\n",
    "        'best_params': grid_search.best_params_\n",
    "    })\n",
    "\n",
    "# Converter os resultados em DataFrame e exibir\n",
    "results_df = pd.DataFrame(results)\n",
    "print(results_df)"
   ]
  },
  {
   "cell_type": "markdown",
   "metadata": {},
   "source": [
    "### Análise dos Resultados\n",
    "\n",
    "**O que aconteceu com a acurácia?**\n",
    "- **Treino**: A acurácia no conjunto de treino aumentou conforme o número de componentes principais foi ampliado, o que é esperado, já que mais componentes capturam mais variabilidade dos dados.\n",
    "- **Teste**: A acurácia no conjunto de teste melhorou até atingir seu pico com 10 componentes principais (`n_components=10`), alcançando aproximadamente 82.4%. Após esse ponto, a acurácia variou levemente, mas não apresentou melhorias significativas, sugerindo que adicionar mais componentes não melhora a generalização do modelo.\n",
    "\n",
    "**O que aconteceu com o tempo de processamento?**\n",
    "- O tempo total de processamento foi de aproximadamente 5.28 segundos. O tempo de processamento aumentou conforme o número de componentes principais foi ampliado, o que é natural, pois mais dados precisaram ser processados.\n",
    "\n",
    "### Escolha do Modelo\n",
    "\n",
    "Com base nos resultados:\n",
    "\n",
    "- **Melhor Acurácia de Teste**: O modelo com **10 componentes principais** (`n_components=10`) apresentou a melhor acurácia no conjunto de teste (82.4%) e uma acurácia de treino de 89.3%, sugerindo um bom equilíbrio entre desempenho e generalização.\n",
    "  \n",
    "- **Modelos com Acurácia Similar**: Os modelos com 20 e 30 componentes principais apresentaram acurácia de teste ligeiramente inferior ao modelo com 10 componentes, indicando que mais componentes não resultaram em melhor desempenho.\n",
    "\n",
    "**Conclusão**:\n",
    "- **Modelo Selecionado**: O modelo com **10 componentes principais** (`n_components=10`) continua sendo a melhor escolha, pois oferece o melhor equilíbrio entre acurácia de treino e teste, sem sinais evidentes de overfitting.\n"
   ]
  }
 ],
 "metadata": {
  "kernelspec": {
   "display_name": "Python 3",
   "language": "python",
   "name": "python3"
  },
  "language_info": {
   "codemirror_mode": {
    "name": "ipython",
    "version": 3
   },
   "file_extension": ".py",
   "mimetype": "text/x-python",
   "name": "python",
   "nbconvert_exporter": "python",
   "pygments_lexer": "ipython3",
   "version": "3.11.3"
  },
  "toc": {
   "base_numbering": 1,
   "nav_menu": {},
   "number_sections": true,
   "sideBar": true,
   "skip_h1_title": true,
   "title_cell": "Índice",
   "title_sidebar": "Conteúdo",
   "toc_cell": false,
   "toc_position": {},
   "toc_section_display": true,
   "toc_window_display": false
  },
  "varInspector": {
   "cols": {
    "lenName": 16,
    "lenType": 16,
    "lenVar": 40
   },
   "kernels_config": {
    "python": {
     "delete_cmd_postfix": "",
     "delete_cmd_prefix": "del ",
     "library": "var_list.py",
     "varRefreshCmd": "print(var_dic_list())"
    },
    "r": {
     "delete_cmd_postfix": ") ",
     "delete_cmd_prefix": "rm(",
     "library": "var_list.r",
     "varRefreshCmd": "cat(var_dic_list()) "
    }
   },
   "types_to_exclude": [
    "module",
    "function",
    "builtin_function_or_method",
    "instance",
    "_Feature"
   ],
   "window_display": false
  }
 },
 "nbformat": 4,
 "nbformat_minor": 4
}
