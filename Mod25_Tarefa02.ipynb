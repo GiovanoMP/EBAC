{
 "cells": [
  {
   "cell_type": "markdown",
   "metadata": {},
   "source": [
    "# Cálculo - Tarefa 02\n",
    "\n",
    "1- Calcule de forma numérica a integral da função $x^3$ avaliada entre os pontos $1$ e $2$. Identifique o número de retângulos que você usou.  \n"
   ]
  },
  {
   "cell_type": "markdown",
   "metadata": {},
   "source": [
    "Para calcular a integral de forma numérica, utilizamos a **soma de Riemann**, que aproxima a área sob a curva ao dividir o intervalo em pequenos retângulos e somar suas áreas. Quanto maior o número de retângulos, mais precisa será a aproximação.\n",
    "\n",
    "A fórmula geral da soma de Riemann é:\n",
    "\n",
    "$$\n",
    "\\text{Soma de Riemann} \\approx \\sum_{i=1}^{n} f(x_i) \\cdot \\Delta x\n",
    "$$\n",
    "\n",
    "onde:\n",
    "- \\(f(x_i)\\) é a função avaliada no ponto \\(x_i\\),\n",
    "- \\(\\Delta x\\) é a largura de cada retângulo,\n",
    "- \\(n\\) é o número de retângulos.\n"
   ]
  },
  {
   "cell_type": "code",
   "execution_count": 2,
   "metadata": {},
   "outputs": [
    {
     "name": "stdout",
     "output_type": "stream",
     "text": [
      "A integral numérica de x^3 entre 1 e 2 é aproximadamente: 3.7507507507507505\n",
      "Número de retângulos usados: 1000\n"
     ]
    }
   ],
   "source": [
    "import numpy as np\n",
    "\n",
    "# Definir a função\n",
    "f = lambda x: x**3\n",
    "\n",
    "# Definir os limites de integração\n",
    "a = 1\n",
    "b = 2\n",
    "\n",
    "# Número de retângulos\n",
    "n = 1000\n",
    "\n",
    "# Largura de cada retângulo\n",
    "dx = (b - a) / n\n",
    "\n",
    "# Pontos de amostragem\n",
    "x = np.linspace(a, b, n)\n",
    "\n",
    "# Soma das áreas dos retângulos (Soma de Riemann)\n",
    "integral_numerica = np.sum(f(x) * dx)\n",
    "\n",
    "print(f\"A integral numérica de x^3 entre 1 e 2 é aproximadamente: {integral_numerica}\")\n",
    "print(f\"Número de retângulos usados: {n}\")\n"
   ]
  },
  {
   "cell_type": "markdown",
   "metadata": {},
   "source": [
    "#### 2- Calcule essa área de forma analítica."
   ]
  },
  {
   "cell_type": "markdown",
   "metadata": {},
   "source": [
    "A integração é uma ferramenta fundamental em cálculo, usada para encontrar a área sob uma curva em um gráfico. No contexto da questão 2, queremos calcular a área sob a curva da função \n",
    "𝑥\n",
    "3\n",
    "x \n",
    "3\n",
    "  entre os pontos 1 e 2. Esse processo envolve somar infinitas pequenas áreas retangulares sob a curva, o que nos dá a medida exata da área total.\n",
    "\n",
    "Quando calculamos uma integral de forma analítica, estamos encontrando uma expressão matemática que nos permite calcular essa área diretamente, sem precisar somar manualmente todas essas pequenas áreas. A integração analítica utiliza regras e técnicas específicas do cálculo para fornecer uma solução exata para a área que estamos interessados.\n",
    "\n",
    "Neste caso específico, queremos saber o quanto a função \n",
    "𝑥\n",
    "3\n",
    "x \n",
    "3\n",
    "  \"acumula\" no intervalo entre 1 e 2, o que nos dá uma medida precisa do espaço que a curva cobre nesse intervalo. Este tipo de cálculo é útil em muitas áreas da matemática e ciência, onde precisamos entender a quantidade total de um fenômeno que se acumula ao longo de um intervalo."
   ]
  },
  {
   "cell_type": "code",
   "execution_count": 3,
   "metadata": {},
   "outputs": [
    {
     "name": "stdout",
     "output_type": "stream",
     "text": [
      "A integral analítica de x^3 entre 1 e 2 é: 3.75\n"
     ]
    }
   ],
   "source": [
    "# Definir os limites de integração\n",
    "a = 1\n",
    "b = 2\n",
    "\n",
    "# Calcular a integral analítica diretamente\n",
    "# A integral de x^3 é (x^4)/4 + C\n",
    "integral_analitica = (b**4 / 4) - (a**4 / 4)\n",
    "\n",
    "# Exibir o resultado\n",
    "print(f\"A integral analítica de x^3 entre {a} e {b} é: {integral_analitica}\")\n"
   ]
  },
  {
   "cell_type": "code",
   "execution_count": null,
   "metadata": {},
   "outputs": [],
   "source": []
  }
 ],
 "metadata": {
  "kernelspec": {
   "display_name": "Python 3",
   "language": "python",
   "name": "python3"
  },
  "language_info": {
   "codemirror_mode": {
    "name": "ipython",
    "version": 3
   },
   "file_extension": ".py",
   "mimetype": "text/x-python",
   "name": "python",
   "nbconvert_exporter": "python",
   "pygments_lexer": "ipython3",
   "version": "3.11.3"
  },
  "toc": {
   "base_numbering": 1,
   "nav_menu": {},
   "number_sections": true,
   "sideBar": true,
   "skip_h1_title": true,
   "title_cell": "Índice",
   "title_sidebar": "Conteúdo",
   "toc_cell": false,
   "toc_position": {},
   "toc_section_display": true,
   "toc_window_display": false
  },
  "varInspector": {
   "cols": {
    "lenName": 16,
    "lenType": 16,
    "lenVar": 40
   },
   "kernels_config": {
    "python": {
     "delete_cmd_postfix": "",
     "delete_cmd_prefix": "del ",
     "library": "var_list.py",
     "varRefreshCmd": "print(var_dic_list())"
    },
    "r": {
     "delete_cmd_postfix": ") ",
     "delete_cmd_prefix": "rm(",
     "library": "var_list.r",
     "varRefreshCmd": "cat(var_dic_list()) "
    }
   },
   "types_to_exclude": [
    "module",
    "function",
    "builtin_function_or_method",
    "instance",
    "_Feature"
   ],
   "window_display": false
  }
 },
 "nbformat": 4,
 "nbformat_minor": 4
}
