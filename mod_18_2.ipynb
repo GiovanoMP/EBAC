{
 "cells": [
  {
   "cell_type": "markdown",
   "metadata": {},
   "source": [
    "# Regressão Logística I\n",
    "## Tarefa II\n",
    "\n",
    "Vamos trabalhar com a mesma base do exercício anterior, mas vamos aprofundar um pouco mais a nossa regressão."
   ]
  },
  {
   "cell_type": "code",
   "execution_count": 28,
   "metadata": {},
   "outputs": [],
   "source": [
    "import pandas as pd\n",
    "import seaborn as sns\n",
    "import matplotlib.pyplot as plt\n",
    "import numpy as np\n",
    "\n",
    "import statsmodels.formula.api as smf"
   ]
  },
  {
   "cell_type": "code",
   "execution_count": 29,
   "metadata": {
    "tags": []
   },
   "outputs": [
    {
     "data": {
      "text/html": [
       "<div>\n",
       "<style scoped>\n",
       "    .dataframe tbody tr th:only-of-type {\n",
       "        vertical-align: middle;\n",
       "    }\n",
       "\n",
       "    .dataframe tbody tr th {\n",
       "        vertical-align: top;\n",
       "    }\n",
       "\n",
       "    .dataframe thead th {\n",
       "        text-align: right;\n",
       "    }\n",
       "</style>\n",
       "<table border=\"1\" class=\"dataframe\">\n",
       "  <thead>\n",
       "    <tr style=\"text-align: right;\">\n",
       "      <th></th>\n",
       "      <th>age</th>\n",
       "      <th>sex</th>\n",
       "      <th>cp</th>\n",
       "      <th>trestbps</th>\n",
       "      <th>chol</th>\n",
       "      <th>fbs</th>\n",
       "      <th>restecg</th>\n",
       "      <th>thalach</th>\n",
       "      <th>exang</th>\n",
       "      <th>oldpeak</th>\n",
       "      <th>slope</th>\n",
       "      <th>ca</th>\n",
       "      <th>thal</th>\n",
       "      <th>num</th>\n",
       "      <th>flag_doente</th>\n",
       "    </tr>\n",
       "  </thead>\n",
       "  <tbody>\n",
       "    <tr>\n",
       "      <th>0</th>\n",
       "      <td>63.0</td>\n",
       "      <td>1.0</td>\n",
       "      <td>1.0</td>\n",
       "      <td>145.0</td>\n",
       "      <td>233.0</td>\n",
       "      <td>1.0</td>\n",
       "      <td>2.0</td>\n",
       "      <td>150.0</td>\n",
       "      <td>0.0</td>\n",
       "      <td>2.3</td>\n",
       "      <td>3.0</td>\n",
       "      <td>0.0</td>\n",
       "      <td>6.0</td>\n",
       "      <td>0</td>\n",
       "      <td>0</td>\n",
       "    </tr>\n",
       "    <tr>\n",
       "      <th>1</th>\n",
       "      <td>67.0</td>\n",
       "      <td>1.0</td>\n",
       "      <td>4.0</td>\n",
       "      <td>160.0</td>\n",
       "      <td>286.0</td>\n",
       "      <td>0.0</td>\n",
       "      <td>2.0</td>\n",
       "      <td>108.0</td>\n",
       "      <td>1.0</td>\n",
       "      <td>1.5</td>\n",
       "      <td>2.0</td>\n",
       "      <td>3.0</td>\n",
       "      <td>3.0</td>\n",
       "      <td>2</td>\n",
       "      <td>1</td>\n",
       "    </tr>\n",
       "    <tr>\n",
       "      <th>2</th>\n",
       "      <td>67.0</td>\n",
       "      <td>1.0</td>\n",
       "      <td>4.0</td>\n",
       "      <td>120.0</td>\n",
       "      <td>229.0</td>\n",
       "      <td>0.0</td>\n",
       "      <td>2.0</td>\n",
       "      <td>129.0</td>\n",
       "      <td>1.0</td>\n",
       "      <td>2.6</td>\n",
       "      <td>2.0</td>\n",
       "      <td>2.0</td>\n",
       "      <td>7.0</td>\n",
       "      <td>1</td>\n",
       "      <td>1</td>\n",
       "    </tr>\n",
       "    <tr>\n",
       "      <th>3</th>\n",
       "      <td>37.0</td>\n",
       "      <td>1.0</td>\n",
       "      <td>3.0</td>\n",
       "      <td>130.0</td>\n",
       "      <td>250.0</td>\n",
       "      <td>0.0</td>\n",
       "      <td>0.0</td>\n",
       "      <td>187.0</td>\n",
       "      <td>0.0</td>\n",
       "      <td>3.5</td>\n",
       "      <td>3.0</td>\n",
       "      <td>0.0</td>\n",
       "      <td>3.0</td>\n",
       "      <td>0</td>\n",
       "      <td>0</td>\n",
       "    </tr>\n",
       "    <tr>\n",
       "      <th>4</th>\n",
       "      <td>41.0</td>\n",
       "      <td>0.0</td>\n",
       "      <td>2.0</td>\n",
       "      <td>130.0</td>\n",
       "      <td>204.0</td>\n",
       "      <td>0.0</td>\n",
       "      <td>2.0</td>\n",
       "      <td>172.0</td>\n",
       "      <td>0.0</td>\n",
       "      <td>1.4</td>\n",
       "      <td>1.0</td>\n",
       "      <td>0.0</td>\n",
       "      <td>3.0</td>\n",
       "      <td>0</td>\n",
       "      <td>0</td>\n",
       "    </tr>\n",
       "  </tbody>\n",
       "</table>\n",
       "</div>"
      ],
      "text/plain": [
       "    age  sex   cp  trestbps   chol  fbs  restecg  thalach  exang  oldpeak   \n",
       "0  63.0  1.0  1.0     145.0  233.0  1.0      2.0    150.0    0.0      2.3  \\\n",
       "1  67.0  1.0  4.0     160.0  286.0  0.0      2.0    108.0    1.0      1.5   \n",
       "2  67.0  1.0  4.0     120.0  229.0  0.0      2.0    129.0    1.0      2.6   \n",
       "3  37.0  1.0  3.0     130.0  250.0  0.0      0.0    187.0    0.0      3.5   \n",
       "4  41.0  0.0  2.0     130.0  204.0  0.0      2.0    172.0    0.0      1.4   \n",
       "\n",
       "   slope   ca thal  num  flag_doente  \n",
       "0    3.0  0.0  6.0    0            0  \n",
       "1    2.0  3.0  3.0    2            1  \n",
       "2    2.0  2.0  7.0    1            1  \n",
       "3    3.0  0.0  3.0    0            0  \n",
       "4    1.0  0.0  3.0    0            0  "
      ]
     },
     "execution_count": 29,
     "metadata": {},
     "output_type": "execute_result"
    }
   ],
   "source": [
    "url = 'https://archive.ics.uci.edu/ml/machine-learning-databases/heart-disease/processed.cleveland.data'\n",
    "\n",
    "df = pd.read_csv(url, \n",
    "                 names=['age', 'sex', 'cp', 'trestbps', 'chol', 'fbs', 'restecg',\n",
    "                        'thalach', 'exang', 'oldpeak', 'slope', 'ca', 'thal', 'num'])\n",
    "df['flag_doente'] = (df['num']!=0).astype('int64')\n",
    "df.head()"
   ]
  },
  {
   "cell_type": "markdown",
   "metadata": {},
   "source": [
    "A descrição das variáveis está recortada abaixo:\n",
    "- age: idade do paciente em anos\n",
    "- sex: sexo (1 = male; 0 = female)  \n",
    "- cp: tipo de dor no peito\n",
    "  - 1: angina típica\n",
    "  - 2: angina atípica\n",
    "  - 3: dor não-angina\n",
    "  - 4: assintomático\n",
    "- trestbps: pressão sanguínea em repouso (em mm Hg na admissão ao hospital\n",
    "- chol: colesterol sérico em mg/dl\n",
    "- fbs: (açúcar no sangue em jejum > 120 mg/dl) (1 = True; 0 = False)\n",
    "- restecg: resultados eletrocardiográficos em repouso\n",
    "  - 0: normal\n",
    "  - 1: tendo anormalidade da onda ST-T (Inversões de onda T e / ou ST com elevação ou depressão de > 0.05 mV)\n",
    "  - 2: mostrando hipertrofia ventricular esquerda provável ou definitiva pelos critérios de Estes\n",
    "- thalach: frequência cardíaca máxima alcançada\n",
    "- exang: angina induzida por exercício(1 = sim; 0 = não)\n",
    "- oldpeak = Depressão de ST induzida por exercício em relação ao repouso\n",
    "- slope: Depressão de ST induzida por exercício em relação ao repouso\n",
    "  - 1: inclinação ascendente\n",
    "  - 2: estável\n",
    "  - 3: inclinação descendente\n",
    "- ca: número de vasos principais (0-3) coloridos por fluorosopia\n",
    "- thal: 3 = normal; 6 = defeito corrigido; 7 = defeito reversível\n",
    "- num: diagnóstico de doença cardíaga (status de doença angiográfica)"
   ]
  },
  {
   "cell_type": "code",
   "execution_count": 30,
   "metadata": {},
   "outputs": [
    {
     "name": "stdout",
     "output_type": "stream",
     "text": [
      "<class 'pandas.core.frame.DataFrame'>\n",
      "RangeIndex: 303 entries, 0 to 302\n",
      "Data columns (total 15 columns):\n",
      " #   Column       Non-Null Count  Dtype  \n",
      "---  ------       --------------  -----  \n",
      " 0   age          303 non-null    float64\n",
      " 1   sex          303 non-null    float64\n",
      " 2   cp           303 non-null    float64\n",
      " 3   trestbps     303 non-null    float64\n",
      " 4   chol         303 non-null    float64\n",
      " 5   fbs          303 non-null    float64\n",
      " 6   restecg      303 non-null    float64\n",
      " 7   thalach      303 non-null    float64\n",
      " 8   exang        303 non-null    float64\n",
      " 9   oldpeak      303 non-null    float64\n",
      " 10  slope        303 non-null    float64\n",
      " 11  ca           303 non-null    object \n",
      " 12  thal         303 non-null    object \n",
      " 13  num          303 non-null    int64  \n",
      " 14  flag_doente  303 non-null    int64  \n",
      "dtypes: float64(11), int64(2), object(2)\n",
      "memory usage: 35.6+ KB\n"
     ]
    }
   ],
   "source": [
    "df.info()"
   ]
  },
  {
   "cell_type": "code",
   "execution_count": 31,
   "metadata": {},
   "outputs": [
    {
     "data": {
      "text/plain": [
       "age            0\n",
       "sex            0\n",
       "cp             0\n",
       "trestbps       0\n",
       "chol           0\n",
       "fbs            0\n",
       "restecg        0\n",
       "thalach        0\n",
       "exang          0\n",
       "oldpeak        0\n",
       "slope          0\n",
       "ca             0\n",
       "thal           0\n",
       "num            0\n",
       "flag_doente    0\n",
       "dtype: int64"
      ]
     },
     "execution_count": 31,
     "metadata": {},
     "output_type": "execute_result"
    }
   ],
   "source": [
    "df.isnull().sum()"
   ]
  },
  {
   "cell_type": "code",
   "execution_count": 32,
   "metadata": {},
   "outputs": [
    {
     "data": {
      "text/plain": [
       "0"
      ]
     },
     "execution_count": 32,
     "metadata": {},
     "output_type": "execute_result"
    }
   ],
   "source": [
    "df.duplicated().sum()"
   ]
  },
  {
   "cell_type": "markdown",
   "metadata": {},
   "source": [
    "1. Considere o script que monta a análise bivariada que você fez na tarefa anterior. Transforme esse script em uma função, que deve:\n",
    "- Ter como parâmetros de entrada:\n",
    "    - Um *dataframe* contendo os dados a serem avaliados\n",
    "    - Um *string* contendo o nome da variável resposta\n",
    "    - Um *string* contendo o nome da variável explicativa\n",
    "- E deve retornar um *dataframe* com os dados da bivariada. \n",
    "**Monte** a mesma bivariada pelo menos três variáveis qualitativas do *data-frame*. Qual delas parece discriminar mais o risco?"
   ]
  },
  {
   "cell_type": "markdown",
   "metadata": {},
   "source": [
    "#### Criar a Função para Análise Bivariada"
   ]
  },
  {
   "cell_type": "code",
   "execution_count": 33,
   "metadata": {},
   "outputs": [],
   "source": [
    "def bivariada_analysis(df, response_var, explanatory_var):\n",
    "    \"\"\"\n",
    "    Função para montar a análise bivariada.\n",
    "    \n",
    "    Parâmetros:\n",
    "    df: DataFrame contendo os dados a serem avaliados\n",
    "    response_var: String contendo o nome da variável resposta\n",
    "    explanatory_var: String contendo o nome da variável explicativa\n",
    "    \n",
    "    Retorna:\n",
    "    DataFrame com os dados da bivariada\n",
    "    \"\"\"\n",
    "    # Criar a tabela de contingência\n",
    "    crosstab = pd.crosstab(df[explanatory_var], df[response_var] > 0, margins=True)\n",
    "    crosstab.columns = ['Saudaveis', 'Doentes', 'Total']\n",
    "    \n",
    "    # Calcular as métricas\n",
    "    crosstab['Media Doentes'] = crosstab['Doentes'] / crosstab['Total']\n",
    "    crosstab['Odds'] = crosstab['Doentes'] / crosstab['Saudaveis']\n",
    "    total_odds = crosstab.loc['All', 'Doentes'] / crosstab.loc['All', 'Saudaveis']\n",
    "    crosstab['Odds Ratio'] = crosstab['Odds'] / total_odds\n",
    "    crosstab['Logito'] = np.log(crosstab['Odds'])\n",
    "    crosstab['WOE'] = np.log(crosstab['Odds Ratio'])\n",
    "    \n",
    "    return crosstab"
   ]
  },
  {
   "cell_type": "markdown",
   "metadata": {},
   "source": [
    "#### Aplicar a Função a Três Variáveis Qualitativas"
   ]
  },
  {
   "cell_type": "code",
   "execution_count": 34,
   "metadata": {},
   "outputs": [
    {
     "name": "stdout",
     "output_type": "stream",
     "text": [
      "Bivariada para 'sex':\n",
      "     Saudaveis  Doentes  Total  Media Doentes      Odds  Odds Ratio    Logito   \n",
      "sex                                                                             \n",
      "0.0         72       25     97       0.257732  0.347222    0.409672 -1.057790  \\\n",
      "1.0         92      114    206       0.553398  1.239130    1.461996  0.214410   \n",
      "All        164      139    303       0.458746  0.847561    1.000000 -0.165392   \n",
      "\n",
      "          WOE  \n",
      "sex            \n",
      "0.0 -0.892398  \n",
      "1.0  0.379802  \n",
      "All  0.000000  \n",
      "\n",
      "Bivariada para 'cp':\n",
      "     Saudaveis  Doentes  Total  Media Doentes      Odds  Odds Ratio    Logito   \n",
      "cp                                                                              \n",
      "1.0         16        7     23       0.304348  0.437500    0.516187 -0.826679  \\\n",
      "2.0         41        9     50       0.180000  0.219512    0.258993 -1.516347   \n",
      "3.0         68       18     86       0.209302  0.264706    0.312315 -1.329136   \n",
      "4.0         39      105    144       0.729167  2.692308    3.176536  0.990399   \n",
      "All        164      139    303       0.458746  0.847561    1.000000 -0.165392   \n",
      "\n",
      "          WOE  \n",
      "cp             \n",
      "1.0 -0.661286  \n",
      "2.0 -1.350955  \n",
      "3.0 -1.163743  \n",
      "4.0  1.155791  \n",
      "All  0.000000  \n",
      "\n",
      "Bivariada para 'fbs':\n",
      "     Saudaveis  Doentes  Total  Media Doentes      Odds  Odds Ratio    Logito   \n",
      "fbs                                                                             \n",
      "0.0        141      117    258       0.453488  0.829787    0.979030 -0.186586  \\\n",
      "1.0         23       22     45       0.488889  0.956522    1.128558 -0.044452   \n",
      "All        164      139    303       0.458746  0.847561    1.000000 -0.165392   \n",
      "\n",
      "          WOE  \n",
      "fbs            \n",
      "0.0 -0.021193  \n",
      "1.0  0.120941  \n",
      "All  0.000000  \n"
     ]
    }
   ],
   "source": [
    "# Variáveis qualitativas escolhidas: 'sex', 'cp', 'fbs'\n",
    "response_var = 'num'\n",
    "\n",
    "bivariada_sex = bivariada_analysis(df, response_var, 'sex')\n",
    "bivariada_cp = bivariada_analysis(df, response_var, 'cp')\n",
    "bivariada_fbs = bivariada_analysis(df, response_var, 'fbs')\n",
    "\n",
    "print(\"Bivariada para 'sex':\")\n",
    "print(bivariada_sex)\n",
    "\n",
    "print(\"\\nBivariada para 'cp':\")\n",
    "print(bivariada_cp)\n",
    "\n",
    "print(\"\\nBivariada para 'fbs':\")\n",
    "print(bivariada_fbs)"
   ]
  },
  {
   "cell_type": "markdown",
   "metadata": {},
   "source": [
    "#### Analisar Qual Variável Discrimina Mais o Risco"
   ]
  },
  {
   "cell_type": "code",
   "execution_count": 35,
   "metadata": {},
   "outputs": [
    {
     "name": "stdout",
     "output_type": "stream",
     "text": [
      "A variável que discrimina mais o risco é: cp\n"
     ]
    }
   ],
   "source": [
    "def analyze_risk_discrimination(bivariadas):\n",
    "    \"\"\"\n",
    "    Função para analisar qual bivariada discrimina mais o risco.\n",
    "    \n",
    "    Parâmetros:\n",
    "    bivariadas: Lista de DataFrames com as bivariadas\n",
    "    \n",
    "    Retorna:\n",
    "    String com o nome da variável que discrimina mais o risco\n",
    "    \"\"\"\n",
    "    max_woe = float('-inf')\n",
    "    best_var = \"\"\n",
    "    \n",
    "    for var_name, bivariada in bivariadas.items():\n",
    "        # Considerar o valor absoluto do WOE para determinar a discriminação\n",
    "        max_abs_woe = bivariada['WOE'].abs().max()\n",
    "        \n",
    "        if max_abs_woe > max_woe:\n",
    "            max_woe = max_abs_woe\n",
    "            best_var = var_name\n",
    "            \n",
    "    return best_var\n",
    "\n",
    "# Analisar qual variável discrimina mais o risco\n",
    "bivariadas = {\n",
    "    'sex': bivariada_sex,\n",
    "    'cp': bivariada_cp,\n",
    "    'fbs': bivariada_fbs\n",
    "}\n",
    "\n",
    "best_variable = analyze_risk_discrimination(bivariadas)\n",
    "print(f\"A variável que discrimina mais o risco é: {best_variable}\")\n"
   ]
  },
  {
   "cell_type": "markdown",
   "metadata": {},
   "source": [
    "2. Monte uma função semelhante para categorizar variáveis quantitativas contínuas (com muitas categorias) como ```age```.  \n",
    "    Além dos mesmos parâmetros da função anterior, defina mais um parâmetro como número de categorias que você deseja quebrar. Defina um valor '*default*' de 5 grupos para este parâmetro.  "
   ]
  },
  {
   "cell_type": "code",
   "execution_count": 36,
   "metadata": {},
   "outputs": [
    {
     "name": "stdout",
     "output_type": "stream",
     "text": [
      "Bivariada para 'age':\n",
      "          Saudaveis  Doentes  Total  Media Doentes      Odds  Odds Ratio   \n",
      "category                                                                   \n",
      "Group 1           8        3     11       0.272727  0.375000    0.442446  \\\n",
      "Group 2          50       21     71       0.295775  0.420000    0.495540   \n",
      "Group 3          56       41     97       0.422680  0.732143    0.863823   \n",
      "Group 4          40       67    107       0.626168  1.675000    1.976259   \n",
      "Group 5          10        7     17       0.411765  0.700000    0.825899   \n",
      "All             164      139    303       0.458746  0.847561    1.000000   \n",
      "\n",
      "            Logito       WOE  \n",
      "category                      \n",
      "Group 1  -0.980829 -0.815437  \n",
      "Group 2  -0.867501 -0.702108  \n",
      "Group 3  -0.311780 -0.146387  \n",
      "Group 4   0.515813  0.681206  \n",
      "Group 5  -0.356675 -0.191282  \n",
      "All      -0.165392  0.000000  \n"
     ]
    }
   ],
   "source": [
    "def bivariada_quantitative(df, response_var, explanatory_var, num_categories=5):\n",
    "    \"\"\"\n",
    "    Função para categorizar variáveis quantitativas contínuas e montar a análise bivariada.\n",
    "    \n",
    "    Parâmetros:\n",
    "    df: DataFrame contendo os dados a serem avaliados\n",
    "    response_var: String contendo o nome da variável resposta\n",
    "    explanatory_var: String contendo o nome da variável explicativa\n",
    "    num_categories: Número de categorias para quebrar a variável quantitativa (default=5)\n",
    "    \n",
    "    Retorna:\n",
    "    DataFrame com os dados da bivariada\n",
    "    \"\"\"\n",
    "    # Categorizar a variável quantitativa contínua\n",
    "    df['category'] = pd.cut(df[explanatory_var], bins=num_categories, labels=[f'Group {i}' for i in range(1, num_categories + 1)])\n",
    "    \n",
    "    # Criar a tabela de contingência\n",
    "    crosstab = pd.crosstab(df['category'], df[response_var] > 0, margins=True)\n",
    "    crosstab.columns = ['Saudaveis', 'Doentes', 'Total']\n",
    "    \n",
    "    # Calcular as métricas\n",
    "    crosstab['Media Doentes'] = crosstab['Doentes'] / crosstab['Total']\n",
    "    crosstab['Odds'] = crosstab['Doentes'] / crosstab['Saudaveis']\n",
    "    total_odds = crosstab.loc['All', 'Doentes'] / crosstab.loc['All', 'Saudaveis']\n",
    "    crosstab['Odds Ratio'] = crosstab['Odds'] / total_odds\n",
    "    crosstab['Logito'] = np.log(crosstab['Odds'])\n",
    "    crosstab['WOE'] = np.log(crosstab['Odds Ratio'])\n",
    "    \n",
    "    return crosstab\n",
    "\n",
    "# Exemplo de uso da função para a variável 'age'\n",
    "response_var = 'num'\n",
    "explanatory_var = 'age'\n",
    "num_categories = 5\n",
    "\n",
    "bivariada_age = bivariada_quantitative(df, response_var, explanatory_var, num_categories)\n",
    "\n",
    "print(\"Bivariada para 'age':\")\n",
    "print(bivariada_age)"
   ]
  },
  {
   "cell_type": "markdown",
   "metadata": {},
   "source": [
    "3. Construa um modelo de regressão logística com as variáveis qualitativas: ```sex + cp +  trestbps``` e com a variável quantitativa ```age```.\n",
    "\n",
    "**Interprete os parâmetros.**"
   ]
  },
  {
   "cell_type": "code",
   "execution_count": 37,
   "metadata": {},
   "outputs": [
    {
     "name": "stdout",
     "output_type": "stream",
     "text": [
      "Optimization terminated successfully.\n",
      "         Current function value: 0.510076\n",
      "         Iterations 6\n",
      "                           Logit Regression Results                           \n",
      "==============================================================================\n",
      "Dep. Variable:            flag_doente   No. Observations:                  303\n",
      "Model:                          Logit   Df Residuals:                      298\n",
      "Method:                           MLE   Df Model:                            4\n",
      "Date:                Sat, 29 Jun 2024   Pseudo R-squ.:                  0.2605\n",
      "Time:                        17:57:22   Log-Likelihood:                -154.55\n",
      "converged:                       True   LL-Null:                       -208.99\n",
      "Covariance Type:            nonrobust   LLR p-value:                 1.264e-22\n",
      "==============================================================================\n",
      "                 coef    std err          z      P>|z|      [0.025      0.975]\n",
      "------------------------------------------------------------------------------\n",
      "Intercept    -11.1167      1.608     -6.915      0.000     -14.267      -7.966\n",
      "sex            1.8021      0.331      5.444      0.000       1.153       2.451\n",
      "cp             1.1403      0.169      6.739      0.000       0.809       1.472\n",
      "trestbps       0.0214      0.008      2.600      0.009       0.005       0.037\n",
      "age            0.0582      0.017      3.348      0.001       0.024       0.092\n",
      "==============================================================================\n"
     ]
    }
   ],
   "source": [
    "# Criar a fórmula do modelo de regressão logística\n",
    "formula = 'flag_doente ~ sex + cp + trestbps + age'\n",
    "\n",
    "# Ajustar o modelo de regressão logística\n",
    "logit_model = smf.logit(formula, data=df).fit()\n",
    "\n",
    "# Exibir o resumo dos resultados do modelo\n",
    "print(logit_model.summary())"
   ]
  },
  {
   "cell_type": "markdown",
   "metadata": {},
   "source": [
    "### Interpretação dos Coeficientes\n",
    "\n",
    "1. **Intercepto (-11.1167):**\n",
    "   - Log-odds de ter a doença quando todas as variáveis são zero. Probabilidade de doença é muito baixa.\n",
    "\n",
    "2. **sex (1.8021):**\n",
    "   - Homens têm maior probabilidade de ter a doença do que mulheres.\n",
    "\n",
    "3. **cp (1.1403):**\n",
    "   - Tipos diferentes de dor no peito aumentam a probabilidade de ter a doença.\n",
    "\n",
    "4. **trestbps (0.0214):**\n",
    "   - Aumento na pressão arterial em repouso está associado a um aumento na probabilidade de ter a doença.\n",
    "\n",
    "5. **age (0.0582):**\n",
    "   - Idade mais avançada está associada a um aumento na probabilidade de ter a doença.\n"
   ]
  },
  {
   "cell_type": "markdown",
   "metadata": {},
   "source": [
    "4. Avalie o seu modelo quanto a **calibragem**:\n",
    "- Calcule a probabilidade de evento predita segundo o seu modelo\n",
    "- Categorize essa probabilidade em G=5 grupos\n",
    "- Calcule a probabilidade de evento predita média por grupo\n",
    "- Calcule a taxa de eventos (média da variável indicadora de eventos) por grupo\n",
    "- Compare graficamente o valor eperado versus observado para a taxa de maus por grupo"
   ]
  },
  {
   "cell_type": "code",
   "execution_count": 38,
   "metadata": {},
   "outputs": [
    {
     "name": "stdout",
     "output_type": "stream",
     "text": [
      "   predicted_prob\n",
      "0        0.196041\n",
      "1        0.928431\n",
      "2        0.846558\n",
      "3        0.276207\n",
      "4        0.024768\n"
     ]
    }
   ],
   "source": [
    "# Calcular as probabilidades previstas pelo modelo\n",
    "df['predicted_prob'] = logit_model.predict(X)\n",
    "print(df[['predicted_prob']].head())\n"
   ]
  },
  {
   "cell_type": "code",
   "execution_count": 39,
   "metadata": {},
   "outputs": [
    {
     "name": "stdout",
     "output_type": "stream",
     "text": [
      "   predicted_prob  prob_group\n",
      "0        0.196041           2\n",
      "1        0.928431           5\n",
      "2        0.846558           5\n",
      "3        0.276207           2\n",
      "4        0.024768           1\n"
     ]
    }
   ],
   "source": [
    "# Categorizar a probabilidade prevista em 5 grupos\n",
    "df['prob_group'] = pd.qcut(df['predicted_prob'], q=5, labels=False) + 1\n",
    "print(df[['predicted_prob', 'prob_group']].head())\n"
   ]
  },
  {
   "cell_type": "code",
   "execution_count": 40,
   "metadata": {},
   "outputs": [
    {
     "name": "stdout",
     "output_type": "stream",
     "text": [
      "prob_group\n",
      "1    0.076255\n",
      "2    0.249060\n",
      "3    0.457982\n",
      "4    0.673059\n",
      "5    0.837449\n",
      "Name: predicted_prob, dtype: float64\n"
     ]
    }
   ],
   "source": [
    "# Calcular a probabilidade prevista média por grupo\n",
    "predicted_prob_mean = df.groupby('prob_group')['predicted_prob'].mean()\n",
    "print(predicted_prob_mean)\n"
   ]
  },
  {
   "cell_type": "code",
   "execution_count": 41,
   "metadata": {},
   "outputs": [
    {
     "name": "stdout",
     "output_type": "stream",
     "text": [
      "prob_group\n",
      "1    0.098361\n",
      "2    0.183333\n",
      "3    0.491803\n",
      "4    0.683333\n",
      "5    0.836066\n",
      "Name: flag_doente, dtype: float64\n"
     ]
    }
   ],
   "source": [
    "# Calcular a taxa de eventos por grupo\n",
    "event_rate = df.groupby('prob_group')['flag_doente'].mean()\n",
    "print(event_rate)\n"
   ]
  },
  {
   "cell_type": "code",
   "execution_count": 42,
   "metadata": {},
   "outputs": [
    {
     "data": {
      "image/png": "[encoded data removed]",
      "text/plain": [
       "<Figure size 1000x600 with 1 Axes>"
      ]
     },
     "metadata": {},
     "output_type": "display_data"
    }
   ],
   "source": [
    "# Plotar o gráfico\n",
    "plt.figure(figsize=(10, 6))\n",
    "plt.plot(predicted_prob_mean, event_rate, marker='o', linestyle='-', color='b')\n",
    "plt.xlabel('Probabilidade Predita Média')\n",
    "plt.ylabel('Taxa de Eventos Observada')\n",
    "plt.title('Calibragem do Modelo')\n",
    "plt.grid(True)\n",
    "plt.show()"
   ]
  },
  {
   "cell_type": "markdown",
   "metadata": {},
   "source": [
    "5. Avalie o seu modelo quanto a discriminação calculando acurácia, GINI e KS."
   ]
  },
  {
   "cell_type": "markdown",
   "metadata": {},
   "source": [
    "* Acurácia"
   ]
  },
  {
   "cell_type": "code",
   "execution_count": 43,
   "metadata": {},
   "outputs": [
    {
     "name": "stdout",
     "output_type": "stream",
     "text": [
      "Acurácia: 0.7788778877887789\n"
     ]
    }
   ],
   "source": [
    "from sklearn.metrics import accuracy_score\n",
    "\n",
    "# Prever as classes com base em um threshold de 0.5\n",
    "df['predicted_class'] = (df['predicted_prob'] >= 0.5).astype(int)\n",
    "\n",
    "# Calcular a acurácia\n",
    "accuracy = accuracy_score(df['flag_doente'], df['predicted_class'])\n",
    "print(\"Acurácia:\", accuracy)\n"
   ]
  },
  {
   "cell_type": "markdown",
   "metadata": {},
   "source": [
    "* Gini"
   ]
  },
  {
   "cell_type": "code",
   "execution_count": 44,
   "metadata": {},
   "outputs": [
    {
     "name": "stdout",
     "output_type": "stream",
     "text": [
      "GINI: 0.6622214423583084\n"
     ]
    }
   ],
   "source": [
    "from sklearn.metrics import roc_auc_score\n",
    "\n",
    "# Calcular a AUC\n",
    "auc = roc_auc_score(df['flag_doente'], df['predicted_prob'])\n",
    "\n",
    "# Calcular o GINI\n",
    "gini = 2 * auc - 1\n",
    "print(\"GINI:\", gini)\n"
   ]
  },
  {
   "cell_type": "markdown",
   "metadata": {},
   "source": [
    "* KS"
   ]
  },
  {
   "cell_type": "code",
   "execution_count": 45,
   "metadata": {},
   "outputs": [
    {
     "name": "stdout",
     "output_type": "stream",
     "text": [
      "KS Statistic: 0.5840498333040884\n"
     ]
    }
   ],
   "source": [
    "from scipy.stats import ks_2samp\n",
    "\n",
    "# Separar as probabilidades previstas para as duas classes\n",
    "prob_doentes = df[df['flag_doente'] == 1]['predicted_prob']\n",
    "prob_nao_doentes = df[df['flag_doente'] == 0]['predicted_prob']\n",
    "\n",
    "# Calcular o KS\n",
    "ks_statistic, ks_p_value = ks_2samp(prob_doentes, prob_nao_doentes)\n",
    "print(\"KS Statistic:\", ks_statistic)\n"
   ]
  },
  {
   "cell_type": "markdown",
   "metadata": {},
   "source": [
    "6. tente melhorar o modelo obtido, por exemplo inserindo ou removendo variáveis.  \n",
    "    Avalie as características do seu modelo (calibragem e acurácia)."
   ]
  },
  {
   "cell_type": "markdown",
   "metadata": {},
   "source": [
    "* Adicionando variáveis"
   ]
  },
  {
   "cell_type": "code",
   "execution_count": 46,
   "metadata": {},
   "outputs": [
    {
     "name": "stdout",
     "output_type": "stream",
     "text": [
      "Optimization terminated successfully.\n",
      "         Current function value: 0.448501\n",
      "         Iterations 7\n",
      "Acurácia com variáveis adicionais: 0.7986798679867987\n",
      "GINI com variáveis adicionais: 0.7404807861028251\n",
      "KS Statistic com variáveis adicionais: 0.6179592911037024\n"
     ]
    }
   ],
   "source": [
    "# Adicionar variáveis adicionais ao modelo\n",
    "formula = 'flag_doente ~ sex + cp + trestbps + age + chol + thalach + exang'\n",
    "\n",
    "# Ajustar o modelo de regressão logística\n",
    "logit_model_add = smf.logit(formula, data=df).fit()\n",
    "\n",
    "# Calcular as probabilidades previstas pelo modelo\n",
    "df['predicted_prob_add'] = logit_model_add.predict(df)\n",
    "\n",
    "# Prever as classes com base em um threshold de 0.5\n",
    "df['predicted_class_add'] = (df['predicted_prob_add'] >= 0.5).astype(int)\n",
    "\n",
    "# Calcular a acurácia\n",
    "accuracy_add = accuracy_score(df['flag_doente'], df['predicted_class_add'])\n",
    "print(\"Acurácia com variáveis adicionais:\", accuracy_add)\n",
    "\n",
    "# Calcular a AUC\n",
    "auc_add = roc_auc_score(df['flag_doente'], df['predicted_prob_add'])\n",
    "\n",
    "# Calcular o GINI\n",
    "gini_add = 2 * auc_add - 1\n",
    "print(\"GINI com variáveis adicionais:\", gini_add)\n",
    "\n",
    "# Separar as probabilidades previstas para as duas classes\n",
    "prob_doentes_add = df[df['flag_doente'] == 1]['predicted_prob_add']\n",
    "prob_nao_doentes_add = df[df['flag_doente'] == 0]['predicted_prob_add']\n",
    "\n",
    "# Calcular o KS\n",
    "ks_statistic_add, ks_p_value_add = ks_2samp(prob_doentes_add, prob_nao_doentes_add)\n",
    "print(\"KS Statistic com variáveis adicionais:\", ks_statistic_add)\n"
   ]
  },
  {
   "cell_type": "markdown",
   "metadata": {},
   "source": [
    "* Remover Variáveis"
   ]
  },
  {
   "cell_type": "code",
   "execution_count": 47,
   "metadata": {},
   "outputs": [
    {
     "name": "stdout",
     "output_type": "stream",
     "text": [
      "Optimization terminated successfully.\n",
      "         Current function value: 0.607880\n",
      "         Iterations 5\n",
      "Acurácia com variáveis removidas: 0.6765676567656765\n",
      "GINI com variáveis removidas: 0.43841024741182677\n",
      "KS Statistic com variáveis removidas: 0.3526057203018073\n"
     ]
    }
   ],
   "source": [
    "# Remover variáveis do modelo\n",
    "formula = 'flag_doente ~ sex + age + trestbps'\n",
    "\n",
    "# Ajustar o modelo de regressão logística\n",
    "logit_model_rem = smf.logit(formula, data=df).fit()\n",
    "\n",
    "# Calcular as probabilidades previstas pelo modelo\n",
    "df['predicted_prob_rem'] = logit_model_rem.predict(df)\n",
    "\n",
    "# Prever as classes com base em um threshold de 0.5\n",
    "df['predicted_class_rem'] = (df['predicted_prob_rem'] >= 0.5).astype(int)\n",
    "\n",
    "# Calcular a acurácia\n",
    "accuracy_rem = accuracy_score(df['flag_doente'], df['predicted_class_rem'])\n",
    "print(\"Acurácia com variáveis removidas:\", accuracy_rem)\n",
    "\n",
    "# Calcular a AUC\n",
    "auc_rem = roc_auc_score(df['flag_doente'], df['predicted_prob_rem'])\n",
    "\n",
    "# Calcular o GINI\n",
    "gini_rem = 2 * auc_rem - 1\n",
    "print(\"GINI com variáveis removidas:\", gini_rem)\n",
    "\n",
    "# Separar as probabilidades previstas para as duas classes\n",
    "prob_doentes_rem = df[df['flag_doente'] == 1]['predicted_prob_rem']\n",
    "prob_nao_doentes_rem = df[df['flag_doente'] == 0]['predicted_prob_rem']\n",
    "\n",
    "# Calcular o KS\n",
    "ks_statistic_rem, ks_p_value_rem = ks_2samp(prob_doentes_rem, prob_nao_doentes_rem)\n",
    "print(\"KS Statistic com variáveis removidas:\", ks_statistic_rem)\n"
   ]
  },
  {
   "cell_type": "markdown",
   "metadata": {},
   "source": [
    "#### Conclusão: Comparando os resultados e escolhendo o melhor modelo:"
   ]
  },
  {
   "cell_type": "markdown",
   "metadata": {},
   "source": [
    "### Resumo Comparativo dos Modelos\n",
    "\n",
    "#### Modelo 1 (Original):\n",
    "- **Acurácia:** 0.7789\n",
    "- **GINI:** 0.6622\n",
    "- **KS Statistic:** 0.5840\n",
    "\n",
    "#### Modelo 2 (Adição de Variáveis):\n",
    "- **Acurácia:** 0.7987\n",
    "- **GINI:** 0.7405\n",
    "- **KS Statistic:** 0.6180\n",
    "\n",
    "#### Modelo 3 (Remoção de Variáveis):\n",
    "- **Acurácia:** 0.6766\n",
    "- **GINI:** 0.4384\n",
    "- **KS Statistic:** 0.3526\n",
    "\n",
    "### Conclusão\n",
    "O **Modelo 2**, com adição de variáveis, apresentou a melhor performance com maior acurácia, GINI e KS, indicando melhor discriminação e calibragem. Portanto, o **Modelo 2** é o melhor dentre os avaliados.\n"
   ]
  }
 ],
 "metadata": {
  "kernelspec": {
   "display_name": "Python 3",
   "language": "python",
   "name": "python3"
  },
  "language_info": {
   "codemirror_mode": {
    "name": "ipython",
    "version": 3
   },
   "file_extension": ".py",
   "mimetype": "text/x-python",
   "name": "python",
   "nbconvert_exporter": "python",
   "pygments_lexer": "ipython3",
   "version": "3.11.3"
  }
 },
 "nbformat": 4,
 "nbformat_minor": 4
}
